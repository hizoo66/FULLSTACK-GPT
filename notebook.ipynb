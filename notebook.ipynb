{
 "cells": [
  {
   "cell_type": "code",
   "execution_count": 1,
   "metadata": {},
   "outputs": [],
   "source": [
    "from langchain.chat_models import ChatOpenAI\n",
    "from langchain.prompts import ChatPromptTemplate\n",
    "from langchain.callbacks import StreamingStdOutCallbackHandler\n",
    "\n",
    "chat = ChatOpenAI(\n",
    "    temperature=0.1,\n",
    "    streaming=True,\n",
    "    callbacks=[\n",
    "        StreamingStdOutCallbackHandler(),\n",
    "    ],\n",
    ")\n",
    "\n",
    "poet_prompt = ChatPromptTemplate.from_messages(\n",
    "    [\n",
    "        (\n",
    "            \"system\",\n",
    "            \"\",\n",
    "        ),\n",
    "        (\"human\", \"{language}에 대한 시를 써주세요\"),\n",
    "    ]\n",
    ")\n",
    "\n",
    "poet_chain = poet_prompt | chat"
   ]
  },
  {
   "cell_type": "code",
   "execution_count": 5,
   "metadata": {},
   "outputs": [
    {
     "name": "stdout",
     "output_type": "stream",
     "text": [
      "파이썬 코드를 작성하며\n",
      "세상을 탐험하는 모험가\n",
      "간결하고 강력한 힘을 지닌\n",
      "파이썬, 나의 친구여 영원히 함께하리.주어진 시는 파이썬 프로그래밍 언어에 대한 사랑과 그것이 주는 힘에 대한 내용을 담고 있습니다. 시인은 파이썬 코드를 작성하며 세상을 탐험하는 것을 모험가의 활동에 비유하여 표현하고 있습니다. 또한 파이썬을 간결하고 강력한 힘을 지닌 친구로 묘사하여, 파이썬에 대한 애정과 신뢰를 드러내고 있습니다. 마지막으로 \"영원히 함께하리\"라는 구절은 시인이 파이썬과의 관계를 오랫동안 유지하고자 하는 강한 의지를 나타내고 있습니다."
     ]
    },
    {
     "data": {
      "text/plain": [
       "AIMessageChunk(content='주어진 시는 파이썬 프로그래밍 언어에 대한 사랑과 그것이 주는 힘에 대한 내용을 담고 있습니다. 시인은 파이썬 코드를 작성하며 세상을 탐험하는 것을 모험가의 활동에 비유하여 표현하고 있습니다. 또한 파이썬을 간결하고 강력한 힘을 지닌 친구로 묘사하여, 파이썬에 대한 애정과 신뢰를 드러내고 있습니다. 마지막으로 \"영원히 함께하리\"라는 구절은 시인이 파이썬과의 관계를 오랫동안 유지하고자 하는 강한 의지를 나타내고 있습니다.')"
      ]
     },
     "execution_count": 5,
     "metadata": {},
     "output_type": "execute_result"
    }
   ],
   "source": [
    "analyze_prompt = ChatPromptTemplate.from_messages(\n",
    "    [\n",
    "        (\n",
    "            \"system\",\n",
    "            \"당신은 시를 분석하는 분석가 입니다.\",\n",
    "        ),\n",
    "        (\"human\", \"{poet}\"),\n",
    "    ]\n",
    ")\n",
    "\n",
    "\n",
    "ana_chain = analyze_prompt | chat\n",
    "\n",
    "\n",
    "final_chain = {\"poet\": poet_chain} | ana_chain\n",
    "\n",
    "final_chain.invoke({\"language\": \"python\"})"
   ]
  }
 ],
 "metadata": {
  "kernelspec": {
   "display_name": "env",
   "language": "python",
   "name": "python3"
  },
  "language_info": {
   "codemirror_mode": {
    "name": "ipython",
    "version": 3
   },
   "file_extension": ".py",
   "mimetype": "text/x-python",
   "name": "python",
   "nbconvert_exporter": "python",
   "pygments_lexer": "ipython3",
   "version": "3.11.0"
  }
 },
 "nbformat": 4,
 "nbformat_minor": 2
}
